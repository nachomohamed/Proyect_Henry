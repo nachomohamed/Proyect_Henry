{
 "cells": [
  {
   "cell_type": "code",
   "execution_count": 15,
   "metadata": {},
   "outputs": [],
   "source": [
    "import pandas as pd\n",
    "import os\n",
    "import numpy as np\n",
    "from datetime import datetime\n",
    "\n",
    "texto1=\"Cliente\"\n",
    "texto2= \"Venta\"\n",
    "contenido = os.listdir('C:\\\\Users\\\\Nacho\\\\Downloads\\\\HENRY\\\\Proyecto 1\\\\DS-PI-ProyectoIndividual\\\\Datasets\\\\')\n",
    "data= open(\"Datasets\\\\Data.csv\",\"a\")\n",
    "data2= pd.read_csv(\"C:\\\\Users\\\\Nacho\\\\Downloads\\\\HENRY\\\\Proyecto 1\\\\DS-PI-ProyectoIndividual\\\\Datasets\\\\Data.csv\", sep=\";\")"
   ]
  },
  {
   "cell_type": "code",
   "execution_count": 16,
   "metadata": {},
   "outputs": [
    {
     "name": "stderr",
     "output_type": "stream",
     "text": [
      "C:\\Users\\Nacho\\AppData\\Local\\Temp/ipykernel_1924/3795849628.py:35: SettingWithCopyWarning: \n",
      "A value is trying to be set on a copy of a slice from a DataFrame\n",
      "\n",
      "See the caveats in the documentation: https://pandas.pydata.org/pandas-docs/stable/user_guide/indexing.html#returning-a-view-versus-a-copy\n",
      "  Cliente[\"Longitud\"][(Cliente[\"Longitud\"]>-45) & (Cliente[\"Longitud\"]<-20)]=Cliente[\"Nueva_Longitud\"]\n",
      "C:\\Users\\Nacho\\AppData\\Local\\Temp/ipykernel_1924/3795849628.py:36: SettingWithCopyWarning: \n",
      "A value is trying to be set on a copy of a slice from a DataFrame\n",
      "\n",
      "See the caveats in the documentation: https://pandas.pydata.org/pandas-docs/stable/user_guide/indexing.html#returning-a-view-versus-a-copy\n",
      "  Cliente[\"Latitud\"][Cliente[\"Latitud\"]<-45]=Cliente[\"Nueva_Latitud\"]\n"
     ]
    },
    {
     "name": "stdout",
     "output_type": "stream",
     "text": [
      "Actualizado Clientes_Dic2020.csv\n",
      "Actualizado Clientes_v2.csv\n",
      "Actualizado Venta_Dic2020.csv\n"
     ]
    }
   ],
   "source": [
    "for archivo in contenido:\n",
    "    try:\n",
    "        if texto1.lower() in archivo.lower():\n",
    "            if any(data2[\"Nombre_Archivo\"]==archivo):\n",
    "                pass\n",
    "            else:\n",
    "                Cliente_total= pd.read_csv(\"C:\\\\Users\\\\Nacho\\\\Downloads\\\\HENRY\\\\Proyecto 1\\\\DS-PI-ProyectoIndividual\\\\Datasets\\\\Cliente_Total.csv\", on_bad_lines='skip', sep=\";\")\n",
    "                Cliente= pd.read_csv(f\"C:\\\\Users\\\\Nacho\\\\Downloads\\\\HENRY\\\\Proyecto 1\\\\DS-PI-ProyectoIndividual\\\\Datasets\\\\{archivo}\", on_bad_lines='skip', sep=\";\")\n",
    "                \n",
    "                Cliente=Cliente.drop(\"col10\", axis=1)\n",
    "                Cliente.columns=[\"ID\",\"Provincia\",\"Nombre_y_Apellido\",\"Domicilio\",\"Telefono\",\"Edad\",\"Localidad\",\"Longitud\",\"Latitud\"]   \n",
    "\n",
    "                Cliente[\"Provincia\"].fillna(\"Sin Dato\",inplace=True)\n",
    "                Cliente[\"Nombre_y_Apellido\"].fillna(\"Sin Dato\",inplace=True)\n",
    "                Cliente[\"Domicilio\"].fillna(\"Sin Dato\",inplace=True)\n",
    "                Cliente[\"Telefono\"].fillna(\"Sin Dato\",inplace=True)\n",
    "                Cliente[\"Localidad\"].fillna(\"Sin Dato\",inplace=True)\n",
    "                Cliente[\"Latitud\"].fillna(\"0.0\",inplace=True)\n",
    "                Cliente[\"Longitud\"].fillna(\"0.0\",inplace=True)\n",
    "\n",
    "                for j in [2,3,6]:\n",
    "                    for i in range(len(Cliente)):\n",
    "                        Cliente.iloc[i,j]=Cliente.iloc[i,j].title()\n",
    "\n",
    "\n",
    "                Cliente[\"Longitud\"]=[x.replace(',',\".\") for x in Cliente[\"Longitud\"]]\n",
    "                Cliente[\"Latitud\"]=[x.replace(',','.') for x in Cliente[\"Latitud\"]]\n",
    "                Cliente[\"Latitud\"]=pd.to_numeric(Cliente[\"Latitud\"],errors=\"coerce\")\n",
    "                Cliente[\"Longitud\"]=pd.to_numeric(Cliente[\"Longitud\"],errors=\"coerce\")\n",
    "                Cliente[\"Longitud\"]=Cliente[\"Longitud\"].astype(float)\n",
    "                Cliente[\"Latitud\"]=Cliente[\"Latitud\"].astype(float)\n",
    "\n",
    "                Cliente[\"Nueva_Latitud\"]=Cliente[\"Longitud\"][(Cliente[\"Longitud\"]>-45) & (Cliente[\"Longitud\"]<-20)]\n",
    "                Cliente[\"Nueva_Longitud\"]=Cliente[\"Latitud\"][Cliente[\"Latitud\"]<-45]\n",
    "                Cliente[\"Longitud\"][(Cliente[\"Longitud\"]>-45) & (Cliente[\"Longitud\"]<-20)]=Cliente[\"Nueva_Longitud\"]\n",
    "                Cliente[\"Latitud\"][Cliente[\"Latitud\"]<-45]=Cliente[\"Nueva_Latitud\"]\n",
    "                Cliente.drop(\"Nueva_Longitud\", axis=1,inplace=True)\n",
    "                Cliente.drop(\"Nueva_Latitud\", axis=1,inplace=True)\n",
    "\n",
    "                renglon=f\"{archivo};{datetime.now()}\\n\"\n",
    "                data.write(renglon)\n",
    "                print(f\"Actualizado {archivo}\")\n",
    "\n",
    "\n",
    "                Cliente_total=pd.concat([Cliente_total,Cliente], axis=0, ignore_index=True)\n",
    "                Cliente_total.drop_duplicates(inplace=True)\n",
    "                Cliente_total.sort_values(\"ID\", inplace=True)\n",
    "                Cliente_total.set_index(\"ID\", inplace=True)\n",
    "                Cliente_total.to_csv(\"Datasets\\\\Cliente_total.csv\", sep=\";\",index=True)\n",
    "        elif texto2.lower() in archivo.lower():\n",
    "            if any(data2[\"Nombre_Archivo\"]==archivo):\n",
    "                pass\n",
    "            else:\n",
    "                Venta_Total= pd.read_csv(f\"C:\\\\Users\\\\Nacho\\\\Downloads\\\\HENRY\\\\Proyecto 1\\\\DS-PI-ProyectoIndividual\\\\Datasets\\\\Venta_Total.csv\", sep=\",\")\n",
    "                Venta= pd.read_csv(f\"C:\\\\Users\\\\Nacho\\\\Downloads\\\\HENRY\\\\Proyecto 1\\\\DS-PI-ProyectoIndividual\\\\Datasets\\\\{archivo}\",sep=\",\")\n",
    "                Venta.loc[Venta[\"Precio\"].isna(),\"Precio\"]=0\n",
    "                Venta.loc[Venta[\"Cantidad\"].isna(),\"Cantidad\"]=1\n",
    "                renglon=f\"{archivo};{datetime.now()}\\n\"\n",
    "                data.write(renglon)\n",
    "                print(f\"Actualizado {archivo}\")\n",
    "        \n",
    "                Venta_Total=pd.concat([Venta_Total,Venta], axis=0, ignore_index=True)\n",
    "                Venta_Total.drop_duplicates(inplace=True)              \n",
    "                Venta_Total.sort_values(\"IdVenta\", inplace=True)\n",
    "                Venta_Total.set_index(\"IdVenta\", inplace=True)\n",
    "                Venta_Total.to_csv(\"Datasets\\\\Venta_Total.csv\", sep=\";\",index=True)\n",
    "    except:\n",
    "        print(f\"ERROR {archivo}\")"
   ]
  },
  {
   "cell_type": "code",
   "execution_count": 17,
   "metadata": {},
   "outputs": [],
   "source": [
    "data.close()"
   ]
  }
 ],
 "metadata": {
  "kernelspec": {
   "display_name": "Python 3.9.7 ('base')",
   "language": "python",
   "name": "python3"
  },
  "language_info": {
   "codemirror_mode": {
    "name": "ipython",
    "version": 3
   },
   "file_extension": ".py",
   "mimetype": "text/x-python",
   "name": "python",
   "nbconvert_exporter": "python",
   "pygments_lexer": "ipython3",
   "version": "3.9.7"
  },
  "orig_nbformat": 4,
  "vscode": {
   "interpreter": {
    "hash": "d769fb3200fc277f8ee95a9cc724831c284e91c864b33f0c557335d16a82712c"
   }
  }
 },
 "nbformat": 4,
 "nbformat_minor": 2
}
