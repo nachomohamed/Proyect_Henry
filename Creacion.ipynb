{
 "cells": [
  {
   "cell_type": "markdown",
   "metadata": {},
   "source": [
    "## CREACION"
   ]
  },
  {
   "cell_type": "code",
   "execution_count": 1,
   "metadata": {},
   "outputs": [],
   "source": [
    "import pandas as pd\n",
    "import os\n",
    "import numpy as np\n",
    "from datetime import datetime\n",
    "\n",
    "data= open(\"Datasets\\\\Data.csv\",\"a\")\n",
    "data.write(\"Nombre_Archivo;Fecha\\n\")\n",
    "data.close()\n",
    "\n",
    "texto1=\"CLIENTE\"\n",
    "texto2= \"VENTA\"\n",
    "contenido = os.listdir('C:\\\\Users\\\\Nacho\\\\Downloads\\\\HENRY\\\\Proyecto 1\\\\DS-PI-ProyectoIndividual\\\\Datasets\\\\')\n",
    "data= open(\"Datasets\\\\Data.csv\",\"a\")\n",
    "data2= pd.read_csv(\"C:\\\\Users\\\\Nacho\\\\Downloads\\\\HENRY\\\\Proyecto 1\\\\DS-PI-ProyectoIndividual\\\\Datasets\\\\Data.csv\", sep=\";\")"
   ]
  },
  {
   "cell_type": "code",
   "execution_count": 2,
   "metadata": {},
   "outputs": [
    {
     "name": "stdout",
     "output_type": "stream",
     "text": [
      "Actualizado Clientes.csv\n",
      "Actualizado Venta.csv\n"
     ]
    },
    {
     "name": "stderr",
     "output_type": "stream",
     "text": [
      "C:\\Users\\Nacho\\AppData\\Local\\Temp/ipykernel_9140/624830187.py:38: SettingWithCopyWarning: \n",
      "A value is trying to be set on a copy of a slice from a DataFrame\n",
      "\n",
      "See the caveats in the documentation: https://pandas.pydata.org/pandas-docs/stable/user_guide/indexing.html#returning-a-view-versus-a-copy\n",
      "  Cliente[\"Longitud\"][(Cliente[\"Longitud\"]>-45) & (Cliente[\"Longitud\"]<-20)]=Cliente[\"Nueva_Longitud\"]\n",
      "C:\\Users\\Nacho\\AppData\\Local\\Temp/ipykernel_9140/624830187.py:39: SettingWithCopyWarning: \n",
      "A value is trying to be set on a copy of a slice from a DataFrame\n",
      "\n",
      "See the caveats in the documentation: https://pandas.pydata.org/pandas-docs/stable/user_guide/indexing.html#returning-a-view-versus-a-copy\n",
      "  Cliente[\"Latitud\"][Cliente[\"Latitud\"]<-45]=Cliente[\"Nueva_Latitud\"]\n"
     ]
    }
   ],
   "source": [
    "cargaC=0\n",
    "cargaV=0\n",
    "for archivo in contenido:\n",
    "    if texto1.lower() in archivo.lower():\n",
    "        if cargaC>=1:\n",
    "            pass\n",
    "        elif any(data2[\"Nombre_Archivo\"]==archivo):\n",
    "            pass\n",
    "        else:\n",
    "            Cliente= pd.read_csv(f\"C:\\\\Users\\\\Nacho\\\\Downloads\\\\HENRY\\\\Proyecto 1\\\\DS-PI-ProyectoIndividual\\\\Datasets\\\\{archivo}\", on_bad_lines='skip', sep=\";\")\n",
    "            Cliente=Cliente.drop(\"col10\", axis=1)\n",
    "            Cliente.columns=[\"ID\",\"Provincia\",\"Nombre_y_Apellido\",\"Domicilio\",\"Telefono\",\"Edad\",\"Localidad\",\"Longitud\",\"Latitud\"]   \n",
    "\n",
    "            Cliente.set_index(\"ID\", inplace=True)\n",
    "\n",
    "\n",
    "            Cliente[\"Provincia\"].fillna(\"Sin Dato\",inplace=True)\n",
    "            Cliente[\"Nombre_y_Apellido\"].fillna(\"Sin Dato\",inplace=True)\n",
    "            Cliente[\"Domicilio\"].fillna(\"Sin Dato\",inplace=True)\n",
    "            Cliente[\"Telefono\"].fillna(\"Sin Dato\",inplace=True)\n",
    "            Cliente[\"Localidad\"].fillna(\"Sin Dato\",inplace=True)\n",
    "            Cliente[\"Latitud\"].fillna(\"0.0\",inplace=True)\n",
    "            Cliente[\"Longitud\"].fillna(\"0.0\",inplace=True)\n",
    "\n",
    "            for j in [1,2,5]:\n",
    "                for i in range(len(Cliente)):\n",
    "                    Cliente.iloc[i,j]=Cliente.iloc[i,j].title()\n",
    "\n",
    "            Cliente[\"Longitud\"]=[x.replace(',',\".\") for x in Cliente[\"Longitud\"]]\n",
    "            Cliente[\"Latitud\"]=[x.replace(',','.') for x in Cliente[\"Latitud\"]]\n",
    "            Cliente[\"Latitud\"]=pd.to_numeric(Cliente[\"Latitud\"],errors=\"coerce\")\n",
    "            Cliente[\"Longitud\"]=pd.to_numeric(Cliente[\"Longitud\"],errors=\"coerce\")\n",
    "            Cliente[\"Longitud\"]=Cliente[\"Longitud\"].astype(float)\n",
    "            Cliente[\"Latitud\"]=Cliente[\"Latitud\"].astype(float)\n",
    "\n",
    "            Cliente[\"Nueva_Latitud\"]=Cliente[\"Longitud\"][(Cliente[\"Longitud\"]>-45) & (Cliente[\"Longitud\"]<-20)]\n",
    "            Cliente[\"Nueva_Longitud\"]=Cliente[\"Latitud\"][Cliente[\"Latitud\"]<-45]\n",
    "            Cliente[\"Longitud\"][(Cliente[\"Longitud\"]>-45) & (Cliente[\"Longitud\"]<-20)]=Cliente[\"Nueva_Longitud\"]\n",
    "            Cliente[\"Latitud\"][Cliente[\"Latitud\"]<-45]=Cliente[\"Nueva_Latitud\"]\n",
    "            Cliente.drop(\"Nueva_Longitud\", axis=1,inplace=True)\n",
    "            Cliente.drop(\"Nueva_Latitud\", axis=1,inplace=True)\n",
    "\n",
    "            Cliente.drop_duplicates(inplace=True)\n",
    "\n",
    "            Cliente.to_csv(\"Datasets\\\\Cliente_Total.csv\", index=True)\n",
    "\n",
    "            renglon=f\"{archivo};{datetime.now()}\\n\"\n",
    "            renglon2= f\"Cliente_Total.csv;{datetime.now()}\\n\"\n",
    "            data.write(renglon)\n",
    "            data.write(renglon2)\n",
    "            print(f\"Actualizado {archivo}\")\n",
    "\n",
    "            cargaC+=1\n",
    "        \n",
    "    elif texto2.lower() in archivo.lower():\n",
    "        if cargaV>=1:\n",
    "            pass\n",
    "        elif any(data2[\"Nombre_Archivo\"]==archivo):\n",
    "            pass\n",
    "        else:\n",
    "            Venta= pd.read_csv(f\"C:\\\\Users\\\\Nacho\\\\Downloads\\\\HENRY\\\\Proyecto 1\\\\DS-PI-ProyectoIndividual\\\\Datasets\\\\{archivo}\")\n",
    "            Venta.loc[Venta[\"Precio\"].isna(),\"Precio\"]=0\n",
    "            Venta.loc[Venta[\"Cantidad\"].isna(),\"Cantidad\"]=1\n",
    "            Venta.set_index(\"IdVenta\", inplace=True)\n",
    "\n",
    "            Venta.drop_duplicates(inplace=True)\n",
    "\n",
    "            Venta.to_csv(\"Datasets\\\\Venta_Total.csv\", index=True)\n",
    "\n",
    "            renglon=f\"{archivo};{datetime.now()}\\n\"\n",
    "            data.write(renglon)\n",
    "            renglon=f\"Venta_Total.csv;{datetime.now()}\\n\"\n",
    "            data.write(renglon)\n",
    "            print(f\"Actualizado {archivo}\")\n",
    "\n",
    "            cargaV+=1"
   ]
  },
  {
   "cell_type": "code",
   "execution_count": 3,
   "metadata": {},
   "outputs": [],
   "source": [
    "data.close()"
   ]
  },
  {
   "cell_type": "code",
   "execution_count": null,
   "metadata": {},
   "outputs": [],
   "source": []
  }
 ],
 "metadata": {
  "kernelspec": {
   "display_name": "Python 3.9.7 ('base')",
   "language": "python",
   "name": "python3"
  },
  "language_info": {
   "codemirror_mode": {
    "name": "ipython",
    "version": 3
   },
   "file_extension": ".py",
   "mimetype": "text/x-python",
   "name": "python",
   "nbconvert_exporter": "python",
   "pygments_lexer": "ipython3",
   "version": "3.9.7"
  },
  "orig_nbformat": 4,
  "vscode": {
   "interpreter": {
    "hash": "d769fb3200fc277f8ee95a9cc724831c284e91c864b33f0c557335d16a82712c"
   }
  }
 },
 "nbformat": 4,
 "nbformat_minor": 2
}
